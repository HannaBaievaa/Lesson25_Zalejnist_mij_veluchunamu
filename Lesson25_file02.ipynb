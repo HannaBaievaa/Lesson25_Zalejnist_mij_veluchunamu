{
 "cells": [
  {
   "cell_type": "markdown",
   "metadata": {
    "collapsed": false,
    "jupyter": {
     "outputs_hidden": false
    }
   },
   "source": [
    "### Завдання 2\n",
    "\n",
    "Розглянемо дві різні умовні акції X і Y. Для кожної з них за допомогою статистичних досліджень були розраховані відносні частоти очікуваних прибутків залежно від п'яти станів економічного середовища: значне піднесення(ЗП), незначне піднесення(НЗП), стагнація(С), незначний спад(НЗС), значний спад(ЗС). Ці дані занесені відповідно в останній рядок і останній стовпчик таблиці. Залежно від економічного середовища прогнозовані норми очікуваних прибутків у відсотках задані відповідно у першому рядку та першому стовпчику таблиці. У клітинах на перетині X i Y проставлені ймовірності появи норм відсотків значень (х, у).\n",
    "\n",
    "| **Y / X** |10      | 5      | 2      | 1      | -5     | P(Y)  |\n",
    "| :---      | :----: | :----: | :----: | :----: | :----: | ---:  |\n",
    "| **20**    | 0,01   | 0,03   | 0,02   | 0,03   |0,01    |**0,1**|\n",
    "| **10**    | 0,03   | 0,09   | 0,06   | 0,09   |0,03    |**0,3**|\n",
    "| **2**     | 0,02   | 0,06   | 0,04   | 0,06   |0,02    |**0,2**|\n",
    "| **-2**    | 0,03   | 0,09   | 0,06   | 0,09   |0,03    |**0,3**|\n",
    "| **-8**    | 0,01   | 0,03   | 0,02   | 0,03   |0,01    |**0,1**|\n",
    "| **P(X)**  | **0,1**|**0,3** |**0,2** |**0,3** |**0,1** |**1**  |\n",
    "\n",
    "Необхідно:\n",
    "\n",
    "1) обчислити очікувану норму прибутку по кожній з акцій;\n",
    "2) оцінити ступінь ризику обох акцій за допомогою середньоквадратичного відхилення;\n",
    "3) проаналізувати наявність зв'язку між акціями X та Y за допомогою коефіціентів коваріації та кореляції.\n",
    "\n",
    "#### Рішення\n",
    "\n",
    "1. Задаємо початкові значення:"
   ]
  },
  {
   "cell_type": "code",
   "execution_count": 30,
   "metadata": {
    "collapsed": false,
    "jupyter": {
     "outputs_hidden": false
    }
   },
   "outputs": [],
   "source": [
    "import numpy as np\n",
    "\n",
    "X = np.array([10, 5, 2, 1, -5])\n",
    "Y = np.array([20, 10, 2, -2, -8])\n",
    "P_XY = np.array([[0.01, 0.03, 0.02, 0.03, 0.01],\n",
    "                 [0.03, 0.09, 0.06, 0.09, 0.03],\n",
    "                 [0.02, 0.06, 0.04, 0.06, 0.02],\n",
    "                 [0.03, 0.09, 0.06, 0.09, 0.03],\n",
    "                 [0.01, 0.03, 0.02, 0.03, 0.01]])\n",
    "PX = np.array([0.1, 0.3, 0.2, 0.3, 0.1])\n",
    "PY = np.array([0.1, 0.3, 0.2, 0.3, 0.1])"
   ]
  },
  {
   "cell_type": "markdown",
   "metadata": {
    "collapsed": false,
    "jupyter": {
     "outputs_hidden": false
    }
   },
   "source": [
    "2. Математичне сподівання:"
   ]
  },
  {
   "cell_type": "code",
   "execution_count": 31,
   "metadata": {
    "collapsed": false,
    "jupyter": {
     "outputs_hidden": false
    }
   },
   "outputs": [],
   "source": [
    "M_X = sum(X * PX)\n",
    "M_Y = sum(Y * PY)"
   ]
  },
  {
   "cell_type": "markdown",
   "metadata": {
    "collapsed": false,
    "jupyter": {
     "outputs_hidden": false
    }
   },
   "source": [
    "3. Дисперсія:"
   ]
  },
  {
   "cell_type": "code",
   "execution_count": 32,
   "metadata": {
    "collapsed": false,
    "jupyter": {
     "outputs_hidden": false
    }
   },
   "outputs": [],
   "source": [
    "D_X = sum(X**2 * PX) - M_X ** 2\n",
    "D_Y = sum(Y**2 * PY) - M_Y ** 2"
   ]
  },
  {
   "cell_type": "markdown",
   "metadata": {
    "collapsed": false,
    "jupyter": {
     "outputs_hidden": false
    }
   },
   "source": [
    "4. Стандартне відхилення:"
   ]
  },
  {
   "cell_type": "code",
   "execution_count": 33,
   "metadata": {
    "collapsed": false,
    "jupyter": {
     "outputs_hidden": false
    }
   },
   "outputs": [],
   "source": [
    "S_X = D_X ** 0.5\n",
    "S_Y = D_Y ** 0.5"
   ]
  },
  {
   "cell_type": "markdown",
   "metadata": {
    "collapsed": false,
    "jupyter": {
     "outputs_hidden": false
    }
   },
   "source": [
    "5. Коваріація:"
   ]
  },
  {
   "cell_type": "code",
   "execution_count": 34,
   "metadata": {
    "collapsed": false,
    "jupyter": {
     "outputs_hidden": false
    }
   },
   "outputs": [],
   "source": [
    "M_XY = sum(X * np.dot(Y, P_XY))\n",
    "cov_XY = M_XY - M_X * M_Y"
   ]
  },
  {
   "cell_type": "markdown",
   "metadata": {
    "collapsed": false,
    "jupyter": {
     "outputs_hidden": false
    }
   },
   "source": [
    "6. Кореляція:"
   ]
  },
  {
   "cell_type": "code",
   "execution_count": 35,
   "metadata": {
    "collapsed": false,
    "jupyter": {
     "outputs_hidden": false
    }
   },
   "outputs": [],
   "source": [
    "r_XY = cov_XY / (S_X * S_Y)"
   ]
  },
  {
   "cell_type": "markdown",
   "metadata": {
    "collapsed": false,
    "jupyter": {
     "outputs_hidden": false
    }
   },
   "source": [
    "**Відповідь**:"
   ]
  },
  {
   "cell_type": "code",
   "execution_count": 36,
   "metadata": {
    "collapsed": false,
    "jupyter": {
     "outputs_hidden": false
    }
   },
   "outputs": [
    {
     "data": {
      "text/markdown": [
       "1. Очікувана норма прибутку для акції $X$ = 2.7, а для акції $Y$ = 4.0. Акція $Y$ більш прибуткова.\n",
       "2. Але і ступінь ризику акції $Y$ = 7.9 вищій ніж в акції $X$ = 3.72 за показником стандартного відхилення.\n",
       "3. Лінійного взаємозв'язку між акціями за показниками коваріації (-0.0) та кореляції (-0.0) не спостерігається."
      ],
      "text/plain": [
       "<IPython.core.display.Markdown object>"
      ]
     },
     "execution_count": 36,
     "metadata": {},
     "output_type": "execute_result"
    }
   ],
   "source": [
    "from IPython.display import Markdown as md\n",
    "md(f\"1. Очікувана норма прибутку для акції $X$ = {round(M_X, 2)}, а для акції $Y$ = {round(M_Y, 2)}. Акція $Y$ більш прибуткова.\\n\"\n",
    "   f\"2. Але і ступінь ризику акції $Y$ = {round(S_Y, 2)} вищій ніж в акції $X$ = {round(S_X, 2)} за показником стандартного відхилення.\\n\"\n",
    "   f\"3. Лінійного взаємозв'язку між акціями за показниками коваріації ({round(cov_XY, 2)}) та кореляції ({round(r_XY, 2)}) не спостерігається.\")"
   ]
  }
 ],
 "metadata": {
  "kernelspec": {
   "display_name": "Python 3 (ipykernel)",
   "language": "python",
   "name": "python3"
  },
  "language_info": {
   "codemirror_mode": {
    "name": "ipython",
    "version": 3
   },
   "file_extension": ".py",
   "mimetype": "text/x-python",
   "name": "python",
   "nbconvert_exporter": "python",
   "pygments_lexer": "ipython3",
   "version": "3.10.11"
  }
 },
 "nbformat": 4,
 "nbformat_minor": 4
}
